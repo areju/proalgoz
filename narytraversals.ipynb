{
 "cells": [
  {
   "cell_type": "code",
   "execution_count": 6,
   "metadata": {},
   "outputs": [],
   "source": [
    "\"\"\"Nary module: contains Nary class\"\"\"\n",
    "\n",
    "class NaryNode:\n",
    "    indent = 2\n",
    "    def __init__(self,val):\n",
    "        self.value = val\n",
    "        self.children = list([])\n",
    "    \n",
    "    def add_child(self,val):\n",
    "        c = NaryNode(val)\n",
    "        self.children.append(c)\n",
    "        return c\n",
    "    \n",
    "    @staticmethod\n",
    "    def get_indent_string(level):\n",
    "        s = \"\"\n",
    "        for i in range(level * NaryNode.indent):\n",
    "            s = s + \" \"\n",
    "            \n",
    "        return s\n",
    "    \n",
    "    def is_leaf_node(self):\n",
    "        if len(self.children) > 0:\n",
    "            return False\n",
    "        else:\n",
    "            return True\n",
    "    \n",
    "    def traverse_tree(self,level = 0):\n",
    "        s = \"\"\n",
    "        ids = NaryNode.get_indent_string(level)\n",
    "         \n",
    "        s = s + ids + f'{self.value}:'\n",
    "        \n",
    "        if self.is_leaf_node() is True:\n",
    "            return s\n",
    "        else:\n",
    "            for child in self.children:\n",
    "                s = s + \"\\n\" + child.traverse_tree(level + 1)\n",
    "       \n",
    "        return s\n",
    "    \n",
    "    def find_node(self,val):\n",
    "        \n",
    "        found = False\n",
    "        \n",
    "        if self.value == val:\n",
    "            print(f\"Found {val}\")\n",
    "            return True\n",
    "        \n",
    "        if self.is_leaf_node() is True:\n",
    "            return\n",
    "        else:\n",
    "            for child in self.children:\n",
    "                found = child.find_node(val)\n",
    "                if found is True:\n",
    "                    return       \n",
    "                \n",
    "    \n",
    "    def __str__(self):\n",
    "        \n",
    "        return self.traverse_tree(0)\n",
    "    \n",
    "    def preorder_traversal(self):\n",
    "        \n",
    "        if self is None:\n",
    "            return \n",
    "        print(f\"{self.value}\", end = \"\\t\")\n",
    "        \n",
    "        for children in self.children:\n",
    "            children.preorder_traversal()\n",
    "    \n",
    "    def postorder_traversal(self):\n",
    "        \n",
    "        if self is None:\n",
    "            return\n",
    "        \n",
    "        for children in self.children:\n",
    "            children.postorder_traversal()\n",
    "        \n",
    "        print(f\"{self.value}\", end = \"\\t\")\n",
    "\n",
    "    def breadthfirst_traversal(self,t = True):\n",
    "        \n",
    "        if self is None:\n",
    "            return\n",
    "        \n",
    "        if t is True:\n",
    "            print(f'{self.value}', end = \"\\t\")\n",
    "        \n",
    "        for child in self.children:\n",
    "            print(f'{child.value}', end = \"\\t\")\n",
    "        \n",
    "        for child in self.children:\n",
    "            child.breadthfirst_traversal(False)\n",
    "            "
   ]
  },
  {
   "cell_type": "code",
   "execution_count": 7,
   "metadata": {},
   "outputs": [
    {
     "name": "stdout",
     "output_type": "stream",
     "text": [
      "Root:\n",
      "  A:\n",
      "    D:\n",
      "      G:\n",
      "    E:\n",
      "  B:\n",
      "  C:\n",
      "    F:\n",
      "      H:\n",
      "      I:\n"
     ]
    }
   ],
   "source": [
    "r = NaryNode(\"Root\")\n",
    "a = r.add_child(\"A\")\n",
    "b = r.add_child(\"B\")\n",
    "c = r.add_child(\"C\")\n",
    "d = a.add_child(\"D\")\n",
    "e = a.add_child(\"E\")\n",
    "f = c.add_child(\"F\")\n",
    "g = d.add_child(\"G\")\n",
    "h = f.add_child(\"H\")\n",
    "i = f.add_child(\"I\")\n",
    "\n",
    "print(r)"
   ]
  },
  {
   "cell_type": "code",
   "execution_count": 8,
   "metadata": {},
   "outputs": [
    {
     "name": "stdout",
     "output_type": "stream",
     "text": [
      "Root\tA\tD\tG\tE\tB\tC\tF\tH\tI\t"
     ]
    }
   ],
   "source": [
    "r.preorder_traversal()"
   ]
  },
  {
   "cell_type": "code",
   "execution_count": 9,
   "metadata": {},
   "outputs": [
    {
     "name": "stdout",
     "output_type": "stream",
     "text": [
      "G\tD\tE\tA\tB\tH\tI\tF\tC\tRoot\t"
     ]
    }
   ],
   "source": [
    "r.postorder_traversal()"
   ]
  },
  {
   "cell_type": "code",
   "execution_count": 10,
   "metadata": {},
   "outputs": [
    {
     "name": "stdout",
     "output_type": "stream",
     "text": [
      "Root\tA\tB\tC\tD\tE\tG\tF\tH\tI\t"
     ]
    }
   ],
   "source": [
    "r.breadthfirst_traversal()"
   ]
  },
  {
   "cell_type": "code",
   "execution_count": 12,
   "metadata": {},
   "outputs": [
    {
     "name": "stdout",
     "output_type": "stream",
     "text": [
      "Preorder traversal: \t\tRoot\tA\tD\tG\tE\tB\tC\tF\tH\tI\t\n",
      "\n",
      "postorder traversal: \t\tG\tD\tE\tA\tB\tH\tI\tF\tC\tRoot\t\n",
      "\n",
      "Breadthfirst traversal: \t\tRoot\tA\tB\tC\tD\tE\tG\tF\tH\tI\t\n",
      "\n"
     ]
    }
   ],
   "source": [
    "print(\"Preorder traversal: \\t\\t\", end=\"\")\n",
    "r.preorder_traversal()\n",
    "print(\"\\n\")\n",
    "print(\"postorder traversal: \\t\\t\", end=\"\")\n",
    "r.postorder_traversal()\n",
    "print(\"\\n\")\n",
    "print(\"Breadthfirst traversal: \\t\\t\", end=\"\")\n",
    "r.breadthfirst_traversal()\n",
    "print(\"\\n\")\n"
   ]
  },
  {
   "cell_type": "code",
   "execution_count": null,
   "metadata": {},
   "outputs": [],
   "source": []
  }
 ],
 "metadata": {
  "kernelspec": {
   "display_name": "Python 3",
   "language": "python",
   "name": "python3"
  },
  "language_info": {
   "codemirror_mode": {
    "name": "ipython",
    "version": 3
   },
   "file_extension": ".py",
   "mimetype": "text/x-python",
   "name": "python",
   "nbconvert_exporter": "python",
   "pygments_lexer": "ipython3",
   "version": "3.7.4"
  }
 },
 "nbformat": 4,
 "nbformat_minor": 2
}
