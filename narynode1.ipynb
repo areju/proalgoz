{
 "cells": [
  {
   "cell_type": "code",
   "execution_count": 1,
   "metadata": {},
   "outputs": [],
   "source": [
    "\"\"\"Nary module: contains Nary class\"\"\"\n",
    "\n",
    "class NaryNode:\n",
    "    indent = 2\n",
    "    def __init__(self,val):\n",
    "        self.value = val\n",
    "        self.children = list([])\n",
    "    \n",
    "    def add_child(self,val):\n",
    "        c = NaryNode(val)\n",
    "        self.children.append(c)\n",
    "        return c\n",
    "    \n",
    "    @staticmethod\n",
    "    def get_indent_string(level):\n",
    "        s = \"\"\n",
    "        for i in range(level * NaryNode.indent):\n",
    "            s = s + \" \"\n",
    "            \n",
    "        return s\n",
    "    \n",
    "    def is_leaf_node(self):\n",
    "        if len(self.children) > 0:\n",
    "            return False\n",
    "        else:\n",
    "            return True\n",
    "    \n",
    "    def traverse_tree(self,level = 0):\n",
    "        s = \"\"\n",
    "        ids = NaryNode.get_indent_string(level)\n",
    "         \n",
    "        s = s + ids + f'{self.value}:'\n",
    "        \n",
    "        if self.is_leaf_node() is True:\n",
    "            return s\n",
    "        else:\n",
    "            for child in self.children:\n",
    "                s = s + \"\\n\" + child.traverse_tree(level + 1)\n",
    "       \n",
    "        return s\n",
    "    \n",
    "    def find_node(self,val):\n",
    "        \n",
    "        found = False\n",
    "        \n",
    "        if self.value == val:\n",
    "            print(f\"Found {val}\")\n",
    "            return True\n",
    "        \n",
    "        if self.is_leaf_node() is True:\n",
    "            return\n",
    "        else:\n",
    "            for child in self.children:\n",
    "                found = child.find_node(val)\n",
    "                if found is True:\n",
    "                    return\n",
    "        \n",
    "        \n",
    "        \n",
    "    \n",
    "    def __str__(self):\n",
    "        \n",
    "        return self.traverse_tree(0)"
   ]
  },
  {
   "cell_type": "code",
   "execution_count": 2,
   "metadata": {},
   "outputs": [
    {
     "name": "stdout",
     "output_type": "stream",
     "text": [
      "Root:\n",
      "  A:\n",
      "    D:\n",
      "      G:\n",
      "    E:\n",
      "  B:\n",
      "  C:\n",
      "    F:\n",
      "      H:\n",
      "      I:\n"
     ]
    }
   ],
   "source": [
    "r = NaryNode(\"Root\")\n",
    "a = r.add_child(\"A\")\n",
    "b = r.add_child(\"B\")\n",
    "c = r.add_child(\"C\")\n",
    "d = a.add_child(\"D\")\n",
    "e = a.add_child(\"E\")\n",
    "f = c.add_child(\"F\")\n",
    "g = d.add_child(\"G\")\n",
    "h = f.add_child(\"H\")\n",
    "i = f.add_child(\"I\")\n",
    "\n",
    "print(r)\n"
   ]
  },
  {
   "cell_type": "code",
   "execution_count": 3,
   "metadata": {},
   "outputs": [
    {
     "name": "stdout",
     "output_type": "stream",
     "text": [
      "A:\n",
      "  D:\n",
      "    G:\n",
      "  E:\n"
     ]
    }
   ],
   "source": [
    "print(a)"
   ]
  },
  {
   "cell_type": "code",
   "execution_count": 4,
   "metadata": {},
   "outputs": [
    {
     "name": "stdout",
     "output_type": "stream",
     "text": [
      "Found H\n"
     ]
    }
   ],
   "source": [
    "r.find_node(\"H\")"
   ]
  },
  {
   "cell_type": "code",
   "execution_count": 5,
   "metadata": {},
   "outputs": [],
   "source": [
    "r.find_node(\"Z\")"
   ]
  },
  {
   "cell_type": "code",
   "execution_count": 6,
   "metadata": {},
   "outputs": [
    {
     "name": "stdout",
     "output_type": "stream",
     "text": [
      "Found I\n"
     ]
    }
   ],
   "source": [
    "r.find_node(\"I\")"
   ]
  },
  {
   "cell_type": "code",
   "execution_count": null,
   "metadata": {},
   "outputs": [],
   "source": []
  }
 ],
 "metadata": {
  "kernelspec": {
   "display_name": "Python 3",
   "language": "python",
   "name": "python3"
  },
  "language_info": {
   "codemirror_mode": {
    "name": "ipython",
    "version": 3
   },
   "file_extension": ".py",
   "mimetype": "text/x-python",
   "name": "python",
   "nbconvert_exporter": "python",
   "pygments_lexer": "ipython3",
   "version": "3.7.4"
  }
 },
 "nbformat": 4,
 "nbformat_minor": 2
}
