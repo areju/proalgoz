{
 "cells": [
  {
   "cell_type": "code",
   "execution_count": 1,
   "metadata": {},
   "outputs": [],
   "source": [
    "\"\"\"Nary module: contains Nary class\"\"\"\n",
    "\n",
    "class NaryNode:\n",
    "    \n",
    "    def __init__(self,val):\n",
    "        self.value = val\n",
    "        self.children = list([])\n",
    "    \n",
    "    def add_child(self,val):\n",
    "        c = NaryNode(val)\n",
    "        self.children.append(c)\n",
    "        return c\n",
    "    \n",
    "    def __str__(self):\n",
    "        \n",
    "        s = f\"{self.value} : \"\n",
    "        for child in self.children:\n",
    "            s = s + f\"{child.value} : \"\n",
    "        \n",
    "        return s"
   ]
  },
  {
   "cell_type": "code",
   "execution_count": 2,
   "metadata": {},
   "outputs": [
    {
     "name": "stdout",
     "output_type": "stream",
     "text": [
      "Root : A : B : C : \n",
      "A : D : E : \n"
     ]
    }
   ],
   "source": [
    "r = NaryNode(\"Root\")\n",
    "a = r.add_child(\"A\")\n",
    "b = r.add_child(\"B\")\n",
    "c = r.add_child(\"C\")\n",
    "\n",
    "print(r)\n",
    "\n",
    "d = a.add_child(\"D\")\n",
    "e = a.add_child(\"E\")\n",
    "\n",
    "print(a)\n"
   ]
  },
  {
   "cell_type": "code",
   "execution_count": null,
   "metadata": {},
   "outputs": [],
   "source": []
  }
 ],
 "metadata": {
  "kernelspec": {
   "display_name": "Python 3",
   "language": "python",
   "name": "python3"
  },
  "language_info": {
   "codemirror_mode": {
    "name": "ipython",
    "version": 3
   },
   "file_extension": ".py",
   "mimetype": "text/x-python",
   "name": "python",
   "nbconvert_exporter": "python",
   "pygments_lexer": "ipython3",
   "version": "3.7.4"
  }
 },
 "nbformat": 4,
 "nbformat_minor": 2
}
