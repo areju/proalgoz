{
 "cells": [
  {
   "cell_type": "code",
   "execution_count": 88,
   "metadata": {},
   "outputs": [],
   "source": [
    "class BinaryNode:\n",
    "  \n",
    "  indent = 2\n",
    "    \n",
    "  def __init__(self,val):\n",
    "    self.value = val\n",
    "    self.left_child = None\n",
    "    self.right_child = None\n",
    "  \n",
    "  def add_left(self,val):\n",
    "    left_child = BinaryNode(val)\n",
    "    self.left_child = left_child\n",
    "    return left_child\n",
    "  \n",
    "  def add_right(self, val):\n",
    "    right_child = BinaryNode(val)\n",
    "    self.right_child = right_child\n",
    "    return right_child \n",
    "\n",
    "  @staticmethod\n",
    "  def is_leaf_node(node):\n",
    "    if node.left_child is not None or node.right_child is not None:\n",
    "        return False\n",
    "    \n",
    "    return True\n",
    "\n",
    "  @staticmethod\n",
    "  def get_indent_str(nspaces):\n",
    "    s = \"\"\n",
    "    for i in range(nspaces):\n",
    "        s = s + \" \"\n",
    "    return s\n",
    "\n",
    "  def treestr(self,level=0):\n",
    "    ids = BinaryNode.get_indent_str(level * BinaryNode.indent)\n",
    "    s = \"\" + ids\n",
    "    s = s + f\"{self.value}:\"\n",
    "    \n",
    "    if BinaryNode.is_leaf_node(self) is True:\n",
    "        return s\n",
    "    if self.left_child is not None:\n",
    "        s = s  + \"\\n\" + f'{self.left_child.treestr(level + 1)}'\n",
    "    else:\n",
    "        s = s  + \"\\n\" + BinaryNode.get_indent_str((level + 1) * BinaryNode.indent) + f'None'\n",
    "        \n",
    "    if self.right_child is not None:\n",
    "        s = s  + \"\\n\" + f'{self.right_child.treestr(level + 1)}'\n",
    "    else:\n",
    "        s = s  + \"\\n\" + BinaryNode.get_indent_str((level + 1) * BinaryNode.indent) + f'None'\n",
    "\n",
    "        \n",
    "    return s\n",
    "\n",
    "  def __str__(self, level=0):\n",
    "        return self.treestr(0)\n",
    "    \n",
    "  def find_node(self,val,found_val = False):\n",
    "    \n",
    "    \n",
    "    if found_val is True:\n",
    "        return \n",
    "    \n",
    "    if val is None:\n",
    "        return f\"Not Found: None\"\n",
    "    \n",
    "    if str(self.value) == val:\n",
    "        found_val = True\n",
    "        print(f\"Found: {self.value}\")\n",
    "        return found_val\n",
    "    \n",
    "    if BinaryNode.is_leaf_node(self) is True:\n",
    "        return\n",
    "    \n",
    "    if self.left_child is not None:\n",
    "        found_val = self.left_child.find_node(val,False)\n",
    "        if found_val is True:\n",
    "            return found_val\n",
    "        \n",
    "    if self.right_child is not None:\n",
    "        found_val = self.right_child.find_node(val,False)\n",
    "        if found_val is True:\n",
    "            return found_val\n",
    "    "
   ]
  },
  {
   "cell_type": "code",
   "execution_count": 89,
   "metadata": {},
   "outputs": [],
   "source": [
    "Root = BinaryNode(\"Root\")\n",
    "a = Root.add_left(\"A\")\n",
    "b = Root.add_right(\"B\")\n",
    "c = a.add_left(\"C\")\n",
    "d = a.add_right(\"D\")\n",
    "e = b.add_right(\"E\")\n",
    "f = e.add_left(\"F\")\n"
   ]
  },
  {
   "cell_type": "code",
   "execution_count": 90,
   "metadata": {},
   "outputs": [
    {
     "name": "stdout",
     "output_type": "stream",
     "text": [
      "Root:\n",
      "  A:\n",
      "    C:\n",
      "    D:\n",
      "  B:\n",
      "    None\n",
      "    E:\n",
      "      F:\n",
      "      None\n"
     ]
    }
   ],
   "source": [
    "print(Root)"
   ]
  },
  {
   "cell_type": "code",
   "execution_count": 91,
   "metadata": {},
   "outputs": [
    {
     "name": "stdout",
     "output_type": "stream",
     "text": [
      "A:\n",
      "  C:\n",
      "  D:\n"
     ]
    }
   ],
   "source": [
    "print(a)"
   ]
  },
  {
   "cell_type": "code",
   "execution_count": 92,
   "metadata": {},
   "outputs": [
    {
     "name": "stdout",
     "output_type": "stream",
     "text": [
      "Found: Root\n"
     ]
    },
    {
     "data": {
      "text/plain": [
       "True"
      ]
     },
     "execution_count": 92,
     "metadata": {},
     "output_type": "execute_result"
    }
   ],
   "source": [
    "Root.find_node(\"Root\")"
   ]
  },
  {
   "cell_type": "code",
   "execution_count": 93,
   "metadata": {},
   "outputs": [
    {
     "name": "stdout",
     "output_type": "stream",
     "text": [
      "Found: F\n"
     ]
    },
    {
     "data": {
      "text/plain": [
       "True"
      ]
     },
     "execution_count": 93,
     "metadata": {},
     "output_type": "execute_result"
    }
   ],
   "source": [
    "Root.find_node(\"F\")"
   ]
  },
  {
   "cell_type": "code",
   "execution_count": 94,
   "metadata": {},
   "outputs": [
    {
     "name": "stdout",
     "output_type": "stream",
     "text": [
      "Found: A\n"
     ]
    },
    {
     "data": {
      "text/plain": [
       "True"
      ]
     },
     "execution_count": 94,
     "metadata": {},
     "output_type": "execute_result"
    }
   ],
   "source": [
    "Root.find_node(\"A\")"
   ]
  },
  {
   "cell_type": "code",
   "execution_count": 95,
   "metadata": {},
   "outputs": [
    {
     "name": "stdout",
     "output_type": "stream",
     "text": [
      "Found: A\n"
     ]
    },
    {
     "data": {
      "text/plain": [
       "True"
      ]
     },
     "execution_count": 95,
     "metadata": {},
     "output_type": "execute_result"
    }
   ],
   "source": [
    "a.find_node(\"A\")"
   ]
  },
  {
   "cell_type": "code",
   "execution_count": 96,
   "metadata": {},
   "outputs": [
    {
     "name": "stdout",
     "output_type": "stream",
     "text": [
      "Found: D\n"
     ]
    },
    {
     "data": {
      "text/plain": [
       "True"
      ]
     },
     "execution_count": 96,
     "metadata": {},
     "output_type": "execute_result"
    }
   ],
   "source": [
    "a.find_node(\"D\")"
   ]
  },
  {
   "cell_type": "code",
   "execution_count": 97,
   "metadata": {},
   "outputs": [],
   "source": [
    "Root.find_node(\"Z\")\n"
   ]
  },
  {
   "cell_type": "code",
   "execution_count": null,
   "metadata": {},
   "outputs": [],
   "source": []
  }
 ],
 "metadata": {
  "kernelspec": {
   "display_name": "Python 3",
   "language": "python",
   "name": "python3"
  },
  "language_info": {
   "codemirror_mode": {
    "name": "ipython",
    "version": 3
   },
   "file_extension": ".py",
   "mimetype": "text/x-python",
   "name": "python",
   "nbconvert_exporter": "python",
   "pygments_lexer": "ipython3",
   "version": "3.7.4"
  }
 },
 "nbformat": 4,
 "nbformat_minor": 2
}
