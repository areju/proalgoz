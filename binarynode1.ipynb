{
 "cells": [
  {
   "cell_type": "code",
   "execution_count": 1,
   "metadata": {},
   "outputs": [],
   "source": [
    "class BinaryNode:\n",
    "  def __init__(self,val):\n",
    "    self.value = val\n",
    "    self.left_child = None\n",
    "    self.right_child = None\n",
    "  \n",
    "  def add_left(self,val):\n",
    "    left_child = BinaryNode(val)\n",
    "    self.left_child = left_child\n",
    "    return left_child\n",
    "  \n",
    "  def add_right(self, val):\n",
    "    right_child = BinaryNode(val)\n",
    "    self.right_child = right_child\n",
    "    return right_child\n",
    "  \n",
    "  def __str__(self):\n",
    "    s = f\"{self.value}: \\t\"\n",
    "    if self.left_child is not None:\n",
    "      s = s + f\"{self.left_child.value}  :\\t\"\n",
    "    else:\n",
    "      s = s + \"None: \\t\"\n",
    "\n",
    "    if self.right_child is not None:\n",
    "      s = s + f\"{self.right_child.value}  \\t\"\n",
    "\n",
    "    else:\n",
    "      s = s + f\"None \\t\"\n",
    "\n",
    "    return s"
   ]
  },
  {
   "cell_type": "code",
   "execution_count": 2,
   "metadata": {},
   "outputs": [],
   "source": [
    "Root = BinaryNode(\"Root\")\n",
    "a = Root.add_left(\"A\")\n",
    "b = Root.add_right(\"B\")\n",
    "c = a.add_left(\"C\")\n",
    "d = a.add_right(\"D\")\n",
    "e = b.add_right(\"E\")\n",
    "f = e.add_left(\"F\")"
   ]
  },
  {
   "cell_type": "code",
   "execution_count": 3,
   "metadata": {},
   "outputs": [
    {
     "name": "stdout",
     "output_type": "stream",
     "text": [
      "Root: \tA  :\tB  \t\n",
      "A: \tC  :\tD  \t\n",
      "B: \tNone: \tE  \t\n",
      "C: \tNone: \tNone \t\n",
      "D: \tNone: \tNone \t\n",
      "E: \tF  :\tNone \t\n",
      "F: \tNone: \tNone \t\n"
     ]
    }
   ],
   "source": [
    "print(Root)\n",
    "print(a)\n",
    "print(b)\n",
    "print(c)\n",
    "print(d)\n",
    "print(e)\n",
    "print(f)"
   ]
  },
  {
   "cell_type": "code",
   "execution_count": null,
   "metadata": {},
   "outputs": [],
   "source": []
  }
 ],
 "metadata": {
  "kernelspec": {
   "display_name": "Python 3",
   "language": "python",
   "name": "python3"
  },
  "language_info": {
   "codemirror_mode": {
    "name": "ipython",
    "version": 3
   },
   "file_extension": ".py",
   "mimetype": "text/x-python",
   "name": "python",
   "nbconvert_exporter": "python",
   "pygments_lexer": "ipython3",
   "version": "3.7.4"
  }
 },
 "nbformat": 4,
 "nbformat_minor": 2
}
