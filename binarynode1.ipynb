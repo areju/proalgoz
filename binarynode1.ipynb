{
 "cells": [
  {
   "cell_type": "code",
   "execution_count": 103,
   "metadata": {},
   "outputs": [],
   "source": [
    "class BinaryNode:\n",
    "  \n",
    "  indent = 2\n",
    "    \n",
    "  def __init__(self,val):\n",
    "    self.value = val\n",
    "    self.left_child = None\n",
    "    self.right_child = None\n",
    "  \n",
    "  def add_left(self,val):\n",
    "    left_child = BinaryNode(val)\n",
    "    self.left_child = left_child\n",
    "    return left_child\n",
    "  \n",
    "  def add_right(self, val):\n",
    "    right_child = BinaryNode(val)\n",
    "    self.right_child = right_child\n",
    "    return right_child \n",
    "\n",
    "  @staticmethod\n",
    "  def is_leaf_node(node):\n",
    "    if node.left_child is not None or node.right_child is not None:\n",
    "        return False\n",
    "    \n",
    "    return True\n",
    "\n",
    "  @staticmethod\n",
    "  def get_indent_str(nspaces):\n",
    "    s = \"\"\n",
    "    for i in range(nspaces):\n",
    "        s = s + \" \"\n",
    "    return s\n",
    "\n",
    "  def treestr(self,level=0):\n",
    "    ids = BinaryNode.get_indent_str(level * BinaryNode.indent)\n",
    "    s = \"\" + ids\n",
    "    s = s + f\"{self.value}:\"\n",
    "    \n",
    "    if BinaryNode.is_leaf_node(self) is True:\n",
    "        return s\n",
    "    if self.left_child is not None:\n",
    "        s = s  + \"\\n\" + f'{self.left_child.treestr(level + 1)}'\n",
    "    else:\n",
    "        s = s  + \"\\n\" + BinaryNode.get_indent_str((level + 1) * BinaryNode.indent) + f'None'\n",
    "        \n",
    "    if self.right_child is not None:\n",
    "        s = s  + \"\\n\" + f'{self.right_child.treestr(level + 1)}'\n",
    "    else:\n",
    "        s = s  + \"\\n\" + BinaryNode.get_indent_str((level + 1) * BinaryNode.indent) + f'None'\n",
    "\n",
    "        \n",
    "    return s\n",
    "\n",
    "  def __str__(self, level=0):\n",
    "        return self.treestr(0)"
   ]
  },
  {
   "cell_type": "code",
   "execution_count": 104,
   "metadata": {},
   "outputs": [],
   "source": [
    "Root = BinaryNode(\"Root\")\n",
    "a = Root.add_left(\"A\")\n",
    "b = Root.add_right(\"B\")\n",
    "c = a.add_left(\"C\")\n",
    "d = a.add_right(\"D\")\n",
    "e = b.add_right(\"E\")\n",
    "f = e.add_left(\"F\")"
   ]
  },
  {
   "cell_type": "code",
   "execution_count": 105,
   "metadata": {},
   "outputs": [
    {
     "name": "stdout",
     "output_type": "stream",
     "text": [
      "Root:\n",
      "  A:\n",
      "    C:\n",
      "    D:\n",
      "  B:\n",
      "    None\n",
      "    E:\n",
      "      F:\n",
      "      None\n"
     ]
    }
   ],
   "source": [
    "print(Root)"
   ]
  },
  {
   "cell_type": "code",
   "execution_count": 106,
   "metadata": {},
   "outputs": [
    {
     "name": "stdout",
     "output_type": "stream",
     "text": [
      "A:\n",
      "  C:\n",
      "  D:\n"
     ]
    }
   ],
   "source": [
    "print(a)"
   ]
  },
  {
   "cell_type": "code",
   "execution_count": null,
   "metadata": {},
   "outputs": [],
   "source": []
  }
 ],
 "metadata": {
  "kernelspec": {
   "display_name": "Python 3",
   "language": "python",
   "name": "python3"
  },
  "language_info": {
   "codemirror_mode": {
    "name": "ipython",
    "version": 3
   },
   "file_extension": ".py",
   "mimetype": "text/x-python",
   "name": "python",
   "nbconvert_exporter": "python",
   "pygments_lexer": "ipython3",
   "version": "3.7.4"
  }
 },
 "nbformat": 4,
 "nbformat_minor": 2
}
