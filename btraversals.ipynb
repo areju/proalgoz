{
 "cells": [
  {
   "cell_type": "code",
   "execution_count": 98,
   "metadata": {},
   "outputs": [],
   "source": [
    "class BinaryNode:\n",
    "  \n",
    "  indent = 2\n",
    "    \n",
    "  def __init__(self,val):\n",
    "    self.value = val\n",
    "    self.left_child = None\n",
    "    self.right_child = None\n",
    "  \n",
    "  def add_left(self,val):\n",
    "    left_child = BinaryNode(val)\n",
    "    self.left_child = left_child\n",
    "    return left_child\n",
    "  \n",
    "  def add_right(self, val):\n",
    "    right_child = BinaryNode(val)\n",
    "    self.right_child = right_child\n",
    "    return right_child \n",
    "\n",
    "  @staticmethod\n",
    "  def is_leaf_node(node):\n",
    "    if node.left_child is not None or node.right_child is not None:\n",
    "        return False\n",
    "    \n",
    "    return True\n",
    "\n",
    "  @staticmethod\n",
    "  def get_indent_str(nspaces):\n",
    "    s = \"\"\n",
    "    for i in range(nspaces):\n",
    "        s = s + \" \"\n",
    "    return s\n",
    "\n",
    "  def treestr(self,level=0):\n",
    "    ids = BinaryNode.get_indent_str(level * BinaryNode.indent)\n",
    "    s = \"\" + ids\n",
    "    s = s + f\"{self.value}:\"\n",
    "    \n",
    "    if BinaryNode.is_leaf_node(self) is True:\n",
    "        return s\n",
    "    if self.left_child is not None:\n",
    "        s = s  + \"\\n\" + f'{self.left_child.treestr(level + 1)}'\n",
    "    else:\n",
    "        s = s  + \"\\n\" + BinaryNode.get_indent_str((level + 1) * BinaryNode.indent) + f'None'\n",
    "        \n",
    "    if self.right_child is not None:\n",
    "        s = s  + \"\\n\" + f'{self.right_child.treestr(level + 1)}'\n",
    "    else:\n",
    "        s = s  + \"\\n\" + BinaryNode.get_indent_str((level + 1) * BinaryNode.indent) + f'None'\n",
    "\n",
    "        \n",
    "    return s\n",
    "\n",
    "  def __str__(self, level=0):\n",
    "        return self.treestr(0)\n",
    "    \n",
    "  def find_node(self,val,found_val = False):\n",
    "    \n",
    "    \n",
    "    if found_val is True:\n",
    "        return \n",
    "    \n",
    "    if val is None:\n",
    "        return f\"Not Found: None\"\n",
    "    \n",
    "    if str(self.value) == val:\n",
    "        found_val = True\n",
    "        print(f\"Found: {self.value}\")\n",
    "        return found_val\n",
    "    \n",
    "    if BinaryNode.is_leaf_node(self) is True:\n",
    "        return\n",
    "    \n",
    "    if self.left_child is not None:\n",
    "        found_val = self.left_child.find_node(val,False)\n",
    "        if found_val is True:\n",
    "            return found_val\n",
    "        \n",
    "    if self.right_child is not None:\n",
    "        found_val = self.right_child.find_node(val,False)\n",
    "        if found_val is True:\n",
    "            return found_val\n",
    "\n",
    "  def preorder_traversal(self):\n",
    "        \n",
    "    if self is None:\n",
    "        return\n",
    "        \n",
    "    print(f'{self.value}', end = \"\\t\")\n",
    "    \n",
    "    if self.left_child is not None:\n",
    "        self.left_child.preorder_traversal()\n",
    "    if self.right_child is not None:\n",
    "        self.right_child.preorder_traversal()\n",
    "    \n",
    "\n",
    "  def inorder_traversal(self):\n",
    "    \n",
    "    if self is None:\n",
    "        return\n",
    "    \n",
    "    if self.left_child is not None:\n",
    "        self.left_child.inorder_traversal()\n",
    "    \n",
    "    print(f'{self.value}', end='\\t')\n",
    "    \n",
    "    if self.right_child is not None:\n",
    "        self.right_child.inorder_traversal()\n",
    "\n",
    "\n",
    "  def postorder_traversal(self):\n",
    "    \n",
    "    if self is None:\n",
    "        return\n",
    "    \n",
    "    if self.left_child is not None:\n",
    "        self.left_child.postorder_traversal()\n",
    "    if self.right_child is not None:\n",
    "        self.right_child.postorder_traversal()\n",
    "        \n",
    "    print(f'{self.value}',end='\\t')\n",
    "    \n",
    "  def breadth_first_travesal(self, t= True):\n",
    "    \n",
    "    if self is None:\n",
    "        return \n",
    "    \n",
    "    if t is True:\n",
    "        print(f\"{self.value}\", end = \"\\t\")\n",
    "    \n",
    "    if self.left_child is not None:\n",
    "        print(f\"{self.left_child.value}\", end = \"\\t\")\n",
    "    \n",
    "    if self.right_child is not None:\n",
    "        print(f\"{self.right_child.value}\", end = \"\\t\")\n",
    "    \n",
    "    if self.left_child is not None:\n",
    "        self.left_child.breadth_first_travesal(False)\n",
    "    if self.right_child is not None:\n",
    "        self.right_child.breadth_first_travesal(False)\n",
    "        \n"
   ]
  },
  {
   "cell_type": "code",
   "execution_count": 99,
   "metadata": {},
   "outputs": [],
   "source": [
    "Root = BinaryNode(\"Root\")\n",
    "a = Root.add_left(\"A\")\n",
    "b = Root.add_right(\"B\")\n",
    "c = a.add_left(\"C\")\n",
    "d = a.add_right(\"D\")\n",
    "e = b.add_right(\"E\")\n",
    "f = e.add_left(\"F\")\n"
   ]
  },
  {
   "cell_type": "code",
   "execution_count": 100,
   "metadata": {},
   "outputs": [
    {
     "name": "stdout",
     "output_type": "stream",
     "text": [
      "Root\tA\tC\tD\tB\tE\tF\t"
     ]
    }
   ],
   "source": [
    "Root.preorder_traversal()"
   ]
  },
  {
   "cell_type": "code",
   "execution_count": 101,
   "metadata": {},
   "outputs": [
    {
     "name": "stdout",
     "output_type": "stream",
     "text": [
      "C\tA\tD\tRoot\tB\tF\tE\t"
     ]
    }
   ],
   "source": [
    "Root.inorder_traversal()"
   ]
  },
  {
   "cell_type": "code",
   "execution_count": 102,
   "metadata": {},
   "outputs": [
    {
     "name": "stdout",
     "output_type": "stream",
     "text": [
      "C\tD\tA\tF\tE\tB\tRoot\t"
     ]
    }
   ],
   "source": [
    "Root.postorder_traversal()"
   ]
  },
  {
   "cell_type": "code",
   "execution_count": 103,
   "metadata": {},
   "outputs": [
    {
     "name": "stdout",
     "output_type": "stream",
     "text": [
      "Root\tA\tB\tC\tD\tE\tF\t"
     ]
    }
   ],
   "source": [
    "Root.breadth_first_travesal()"
   ]
  },
  {
   "cell_type": "code",
   "execution_count": 105,
   "metadata": {},
   "outputs": [
    {
     "name": "stdout",
     "output_type": "stream",
     "text": [
      "Preorder traversal: \t\t Root\tA\tC\tD\tB\tE\tF\t\n",
      "\n",
      "Postorder traversal: \t\t C\tD\tA\tF\tE\tB\tRoot\t\n",
      "\n",
      "Inorder traversal: \t\tC\tA\tD\tRoot\tB\tF\tE\t\n",
      "\n",
      "Breadthfirst traveral: \t\tRoot\tA\tB\tC\tD\tE\tF\t\n",
      "\n"
     ]
    }
   ],
   "source": [
    "print(f'Preorder traversal: \\t\\t ',end = \"\")\n",
    "Root.preorder_traversal()\n",
    "print(\"\\n\")\n",
    "print(f'Postorder traversal: \\t\\t ', end=\"\")\n",
    "Root.postorder_traversal()\n",
    "print(\"\\n\")\n",
    "print(f'Inorder traversal: \\t\\t', end=\"\")\n",
    "Root.inorder_traversal()\n",
    "print(\"\\n\")\n",
    "print(f'Breadthfirst traveral: \\t\\t',end=\"\")\n",
    "Root.breadth_first_travesal()\n",
    "print(\"\\n\")\n"
   ]
  },
  {
   "cell_type": "code",
   "execution_count": null,
   "metadata": {},
   "outputs": [],
   "source": []
  }
 ],
 "metadata": {
  "kernelspec": {
   "display_name": "Python 3",
   "language": "python",
   "name": "python3"
  },
  "language_info": {
   "codemirror_mode": {
    "name": "ipython",
    "version": 3
   },
   "file_extension": ".py",
   "mimetype": "text/x-python",
   "name": "python",
   "nbconvert_exporter": "python",
   "pygments_lexer": "ipython3",
   "version": "3.7.4"
  }
 },
 "nbformat": 4,
 "nbformat_minor": 2
}
